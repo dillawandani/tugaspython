{
  "nbformat": 4,
  "nbformat_minor": 0,
  "metadata": {
    "colab": {
      "name": "Untitled23.ipynb",
      "provenance": [],
      "mount_file_id": "16ulY-LgxinGykuAiUTbLWUvudZNhKam9",
      "authorship_tag": "ABX9TyPY5FCIlcsORmSiuG963VQ6",
      "include_colab_link": true
    },
    "kernelspec": {
      "name": "python3",
      "display_name": "Python 3"
    }
  },
  "cells": [
    {
      "cell_type": "markdown",
      "metadata": {
        "id": "view-in-github",
        "colab_type": "text"
      },
      "source": [
        "<a href=\"https://colab.research.google.com/github/dillawandani/tugaspython/blob/main/tugas11.ipynb\" target=\"_parent\"><img src=\"https://colab.research.google.com/assets/colab-badge.svg\" alt=\"Open In Colab\"/></a>"
      ]
    },
    {
      "cell_type": "code",
      "metadata": {
        "colab": {
          "base_uri": "https://localhost:8080/"
        },
        "id": "Jt1XmQSgnOCN",
        "outputId": "4c0ac35f-0031-4490-abbb-853194a07bff"
      },
      "source": [
        "cd /content/drive/MyDrive/Colab Notebooks"
      ],
      "execution_count": null,
      "outputs": [
        {
          "output_type": "stream",
          "text": [
            "/content/drive/MyDrive/Colab Notebooks\n"
          ],
          "name": "stdout"
        }
      ]
    },
    {
      "cell_type": "code",
      "metadata": {
        "colab": {
          "base_uri": "https://localhost:8080/"
        },
        "id": "2n30X1-nogsC",
        "outputId": "498a3f38-6bde-4138-d4cb-acf46e0e1a8a"
      },
      "source": [
        "ls"
      ],
      "execution_count": null,
      "outputs": [
        {
          "output_type": "stream",
          "text": [
            " \u001b[0m\u001b[01;34m3scene\u001b[0m/                         Untitled15.ipynb   Untitled2.ipynb\n",
            "'Salinan dari Untitled1.ipynb'   Untitled16.ipynb   Untitled3.ipynb\n",
            " \u001b[01;34mTUGAS\u001b[0m/                          Untitled17.ipynb   Untitled4.ipynb\n",
            " Untitled                        Untitled18.ipynb   Untitled5.ipynb\n",
            " Untitled0.ipynb                 Untitled19.ipynb   Untitled6.ipynb\n",
            " Untitled10.ipynb                Untitled1.ipynb    Untitled7.ipynb\n",
            " Untitled11.ipynb                Untitled20.ipynb   Untitled8.ipynb\n",
            " Untitled12.ipynb                Untitled21.ipynb   Untitled9.ipynb\n",
            " Untitled13.ipynb                Untitled22.ipynb\n",
            " Untitled14.ipynb                Untitled23.ipynb\n"
          ],
          "name": "stdout"
        }
      ]
    },
    {
      "cell_type": "code",
      "metadata": {
        "id": "KE8YIsRcoinc"
      },
      "source": [
        "# import the necessary packages\n",
        "from keras.models import Sequential\n",
        "from keras.layers.core import Activation\n",
        "from keras.layers.core import Flatten\n",
        "from keras.layers.core import Dense\n",
        "from keras.optimizers import Adam\n",
        "from sklearn.preprocessing import LabelBinarizer\n",
        "from sklearn.model_selection import train_test_split\n",
        "from sklearn.metrics import classification_report\n",
        "from PIL import Image\n",
        "from imutils import paths\n",
        "import numpy as np\n",
        "import os"
      ],
      "execution_count": null,
      "outputs": []
    },
    {
      "cell_type": "code",
      "metadata": {
        "colab": {
          "base_uri": "https://localhost:8080/"
        },
        "id": "_ra3UOmeooce",
        "outputId": "652d4273-36d9-4ebe-f3c4-27a680ed0546"
      },
      "source": [
        "# grab all image paths in the input dataset directory, then initialize\n",
        "# our list of images and corresponding class labels\n",
        "print(\"[INFO] loading images...\")\n",
        "imagePaths = paths.list_images(\"TUGAS\")\n",
        "data = []\n",
        "labels = []"
      ],
      "execution_count": null,
      "outputs": [
        {
          "output_type": "stream",
          "text": [
            "[INFO] loading images...\n"
          ],
          "name": "stdout"
        }
      ]
    },
    {
      "cell_type": "code",
      "metadata": {
        "id": "SpMitPZrox8G"
      },
      "source": [
        "# loop over our input images\n",
        "for imagePath in imagePaths:\n",
        "\t# load the input image from disk, resize it to 32X32 pixels, scale\n",
        "\t# the pixel intensities to the range [0, 1], and then update our\n",
        "\t# images list\n",
        "\timage = Image.open(imagePath)\n",
        "  #preprocessing\n",
        "\timage = np.array(image.resize((32, 32))) / 255.0 #normalisasi\n",
        "\tdata.append(image)\n",
        "\n",
        "\t# extract the class label from the file path and update the\n",
        "\t# labels list\n",
        "\tlabel = imagePath.split(os.path.sep)[-2]\n",
        "\tlabels.append(label)"
      ],
      "execution_count": null,
      "outputs": []
    },
    {
      "cell_type": "code",
      "metadata": {
        "colab": {
          "base_uri": "https://localhost:8080/"
        },
        "id": "dpTQGLfLvYRf",
        "outputId": "34e17e8e-19d1-4add-c5df-05e8e5938da9"
      },
      "source": [
        "print(labels)"
      ],
      "execution_count": null,
      "outputs": [
        {
          "output_type": "stream",
          "text": [
            "['GMB_02', 'GMB_02', 'GMB_02', 'GMB_02', 'GMB_02', 'GMB_02', 'GMB_02', 'GMB_02', 'GMB_02', 'GMB_02', 'GMB_02', 'GMB_02', 'GMB_02', 'GMB_02', 'GMB_02', 'GMB_02', 'GMB_02', 'GMB_02', 'GMB_02', 'GMB_02', 'GMB_02', 'GMB_02', 'GMB_02', 'GMB_02', 'GMB_02', 'GMB_02', 'GMB_02', 'GMB_02', 'GMB_02', 'GMB_02', 'GMB_02', 'GMB_02', 'GMB_02', 'GMB_02', 'GMB_02', 'GMB_02', 'GMB_02', 'GMB_02', 'GMB_02', 'GMB_02', 'GMB_02', 'GMB_02', 'GMB_02', 'GMB_02', 'GMB_02', 'GMB_02', 'GMB_02', 'GMB_02', 'GMB_02', 'GMB_02', 'GMB_02', 'GMB_02', 'GMB_02', 'GMB_02', 'GMB_02', 'GMB_02', 'GMB_02', 'GMB_02', 'GMB_02', 'GMB_02', 'GMB_02', 'GMB_02', 'GMB_02', 'GMB_02', 'GMB_02', 'GMB_02', 'GMB_02', 'GMB_02', 'GMB_02', 'GMB_02', 'GMB_02', 'GMB_02', 'GMB_02', 'GMB_02', 'GMB_02', 'GMB_02', 'GMB_02', 'GMB_02', 'GMB_02', 'GMB_02', 'GMB_02', 'GMB_02', 'GMB_02', 'GMB_02', 'GMB_02', 'GMB_02', 'GMB_02', 'GMB_02', 'GMB_02', 'GMB_02', 'GMB_02', 'GMB_02', 'GMB_02', 'GMB_02', 'GMB_02', 'GMB_02', 'GMB_02', 'GMB_02', 'GMB_02', 'GMB_02', 'GMB_02', 'GMB_02', 'GMB_02', 'GMB_02', 'GMB_02', 'GMB_02', 'GMB_02', 'GMB_02', 'GMB_02', 'GMB_02', 'GMB_02', 'GMB_02', 'GMB_02', 'GMB_06', 'GMB_06', 'GMB_06', 'GMB_06', 'GMB_06', 'GMB_06', 'GMB_06', 'GMB_06', 'GMB_06', 'GMB_06', 'GMB_06', 'GMB_06', 'GMB_06', 'GMB_06', 'GMB_06', 'GMB_06', 'GMB_06', 'GMB_06', 'GMB_06', 'GMB_06', 'GMB_06', 'GMB_06', 'GMB_06', 'GMB_06', 'GMB_06', 'GMB_06', 'GMB_06', 'GMB_06', 'GMB_06', 'GMB_06', 'GMB_06', 'GMB_06', 'GMB_06', 'GMB_06', 'GMB_06', 'GMB_06', 'GMB_06', 'GMB_06', 'GMB_06', 'GMB_06', 'GMB_06', 'GMB_06', 'GMB_06', 'GMB_06', 'GMB_06', 'GMB_06', 'GMB_06', 'GMB_06', 'GMB_06', 'GMB_06', 'GMB_06', 'GMB_06', 'GMB_06', 'GMB_06', 'GMB_06', 'GMB_06', 'GMB_06', 'GMB_06', 'GMB_06', 'GMB_06', 'GMB_06', 'GMB_06', 'GMB_06', 'GMB_06', 'GMB_06', 'GMB_06', 'GMB_06', 'GMB_06', 'GMB_06', 'GMB_06', 'GMB_06', 'GMB_06', 'GMB_06', 'GMB_06', 'GMB_06', 'GMB_06', 'GMB_06', 'GMB_06', 'GMB_06', 'GMB_06', 'GMB_06', 'GMB_06', 'GMB_06', 'GMB_06', 'GMB_06', 'GMB_06', 'GMB_06', 'GMB_06', 'GMB_06', 'GMB_06', 'GMB_06', 'GMB_06', 'GMB_06', 'GMB_06', 'GMB_06', 'GMB_06', 'GMB_06', 'GMB_06', 'GMB_06', 'GMB_06', 'GMB_06', 'GMB_06', 'GMB_06', 'GMB_06', 'GMB_06', 'GMB_06', 'GMB_06', 'GMB_06', 'GMB_06', 'GMB_06', 'GMB_06', 'GMB_06', 'GMB_06', 'GMB_06', 'GMB_06', 'GMB_06', 'GMB_06', 'GMB_06', 'GMB_06', 'GMB_06', 'GMB_06', 'GMB_04', 'GMB_04', 'GMB_04', 'GMB_04', 'GMB_04', 'GMB_04', 'GMB_04', 'GMB_04', 'GMB_04', 'GMB_04', 'GMB_04', 'GMB_04', 'GMB_04', 'GMB_04', 'GMB_04', 'GMB_04', 'GMB_04', 'GMB_04', 'GMB_04', 'GMB_04', 'GMB_04', 'GMB_04', 'GMB_04', 'GMB_04', 'GMB_04', 'GMB_04', 'GMB_04', 'GMB_04', 'GMB_04', 'GMB_04', 'GMB_04', 'GMB_04', 'GMB_04', 'GMB_04', 'GMB_04', 'GMB_04', 'GMB_04', 'GMB_04', 'GMB_04', 'GMB_04', 'GMB_04', 'GMB_04', 'GMB_04', 'GMB_04', 'GMB_04', 'GMB_04', 'GMB_04', 'GMB_04', 'GMB_04', 'GMB_04', 'GMB_04', 'GMB_04', 'GMB_04', 'GMB_04', 'GMB_04', 'GMB_04', 'GMB_04', 'GMB_04', 'GMB_04', 'GMB_04', 'GMB_04', 'GMB_04', 'GMB_04', 'GMB_04', 'GMB_04', 'GMB_04', 'GMB_04', 'GMB_04', 'GMB_04', 'GMB_04', 'GMB_04', 'GMB_04', 'GMB_04', 'GMB_04', 'GMB_04', 'GMB_04', 'GMB_04', 'GMB_04', 'GMB_04', 'GMB_04', 'GMB_04', 'GMB_04', 'GMB_04', 'GMB_04', 'GMB_04', 'GMB_04', 'GMB_04', 'GMB_04', 'GMB_04', 'GMB_04', 'GMB_04', 'GMB_04', 'GMB_04', 'GMB_04', 'GMB_04', 'GMB_04', 'GMB_04', 'GMB_04', 'GMB_04', 'GMB_04', 'GMB_04', 'GMB_04', 'GMB_04', 'GMB_04', 'GMB_04', 'GMB_04', 'GMB_04', 'GMB_04', 'GMB_04', 'GMB_04', 'GMB_04', 'GMB_04', 'GMB_04', 'GMB_04', 'GMB_04', 'GMB_04', 'GMB_04', 'GMB_04', 'GMB_04', 'GMB_04', 'GMB_04', 'GMB_04', 'GMB_08', 'GMB_08', 'GMB_08', 'GMB_08', 'GMB_08', 'GMB_08', 'GMB_08', 'GMB_08', 'GMB_08', 'GMB_08', 'GMB_08', 'GMB_08', 'GMB_08', 'GMB_08', 'GMB_08', 'GMB_08', 'GMB_08', 'GMB_08', 'GMB_08', 'GMB_08', 'GMB_08', 'GMB_08', 'GMB_08', 'GMB_08', 'GMB_08', 'GMB_08', 'GMB_08', 'GMB_08', 'GMB_08', 'GMB_08', 'GMB_08', 'GMB_08', 'GMB_08', 'GMB_08', 'GMB_08', 'GMB_08', 'GMB_08', 'GMB_08', 'GMB_08', 'GMB_08', 'GMB_08', 'GMB_08', 'GMB_08', 'GMB_08', 'GMB_08', 'GMB_08', 'GMB_08', 'GMB_08', 'GMB_08', 'GMB_08', 'GMB_08', 'GMB_08', 'GMB_08', 'GMB_08', 'GMB_08', 'GMB_08', 'GMB_08', 'GMB_08', 'GMB_08', 'GMB_08', 'GMB_08', 'GMB_08', 'GMB_08', 'GMB_08', 'GMB_08', 'GMB_08', 'GMB_08', 'GMB_08', 'GMB_08', 'GMB_08', 'GMB_08', 'GMB_08', 'GMB_08', 'GMB_08', 'GMB_08', 'GMB_08', 'GMB_08', 'GMB_08', 'GMB_08', 'GMB_08', 'GMB_08', 'GMB_08', 'GMB_08', 'GMB_08', 'GMB_08', 'GMB_08', 'GMB_08', 'GMB_08', 'GMB_08', 'GMB_08', 'GMB_08', 'GMB_08', 'GMB_08', 'GMB_08', 'GMB_08', 'GMB_08', 'GMB_08', 'GMB_08', 'GMB_08', 'GMB_08', 'GMB_08', 'GMB_08', 'GMB_08', 'GMB_08', 'GMB_08', 'GMB_08', 'GMB_08', 'GMB_08', 'GMB_08', 'GMB_08', 'GMB_08', 'GMB_08', 'GMB_08', 'GMB_08', 'GMB_08', 'GMB_08', 'GMB_08', 'GMB_10', 'GMB_10', 'GMB_10', 'GMB_10', 'GMB_10', 'GMB_10', 'GMB_10', 'GMB_10', 'GMB_10', 'GMB_10', 'GMB_10', 'GMB_10', 'GMB_10', 'GMB_10', 'GMB_10', 'GMB_10', 'GMB_10', 'GMB_10', 'GMB_10', 'GMB_10', 'GMB_10', 'GMB_10', 'GMB_10', 'GMB_10', 'GMB_10', 'GMB_10', 'GMB_10', 'GMB_10', 'GMB_10', 'GMB_10', 'GMB_10', 'GMB_10', 'GMB_10', 'GMB_10', 'GMB_10', 'GMB_10', 'GMB_10', 'GMB_10', 'GMB_10', 'GMB_10', 'GMB_10', 'GMB_10', 'GMB_10', 'GMB_10', 'GMB_10', 'GMB_10', 'GMB_10', 'GMB_10', 'GMB_10', 'GMB_10', 'GMB_10', 'GMB_10', 'GMB_10', 'GMB_10', 'GMB_10', 'GMB_10', 'GMB_10', 'GMB_10', 'GMB_10', 'GMB_10', 'GMB_10', 'GMB_10', 'GMB_10', 'GMB_10', 'GMB_10', 'GMB_10', 'GMB_10', 'GMB_10', 'GMB_10', 'GMB_10', 'GMB_10', 'GMB_10', 'GMB_10', 'GMB_10', 'GMB_10', 'GMB_10', 'GMB_10', 'GMB_10', 'GMB_10', 'GMB_10', 'GMB_10', 'GMB_10', 'GMB_10', 'GMB_10', 'GMB_10', 'GMB_10', 'GMB_10', 'GMB_10', 'GMB_10', 'GMB_10', 'GMB_10', 'GMB_10', 'GMB_10', 'GMB_10', 'GMB_10', 'GMB_10', 'GMB_10', 'GMB_10', 'GMB_10', 'GMB_10', 'GMB_10', 'GMB_10', 'GMB_10', 'GMB_10', 'GMB_10', 'GMB_10', 'GMB_10', 'GMB_10', 'GMB_10', 'GMB_10', 'GMB_10', 'GMB_10', 'GMB_10', 'GMB_10']\n"
          ],
          "name": "stdout"
        }
      ]
    },
    {
      "cell_type": "code",
      "metadata": {
        "id": "KtdoKS_WvdwR"
      },
      "source": [
        "lb = LabelBinarizer()\n",
        "labels = lb.fit_transform(labels)"
      ],
      "execution_count": null,
      "outputs": []
    },
    {
      "cell_type": "code",
      "metadata": {
        "colab": {
          "base_uri": "https://localhost:8080/"
        },
        "id": "lg8K4_DTvinv",
        "outputId": "97faa6bd-c293-4253-897e-07c6cc40367d"
      },
      "source": [
        "print(labels)"
      ],
      "execution_count": null,
      "outputs": [
        {
          "output_type": "stream",
          "text": [
            "[[1 0 0 0 0]\n",
            " [1 0 0 0 0]\n",
            " [1 0 0 0 0]\n",
            " ...\n",
            " [0 0 0 0 1]\n",
            " [0 0 0 0 1]\n",
            " [0 0 0 0 1]]\n"
          ],
          "name": "stdout"
        }
      ]
    },
    {
      "cell_type": "code",
      "metadata": {
        "colab": {
          "base_uri": "https://localhost:8080/"
        },
        "id": "oPL0Tyf9vmby",
        "outputId": "bb1581f5-7352-4c1f-8cc1-b6f13787cf0c"
      },
      "source": [
        "# perform a training and testing split, using 75% of the data for\n",
        "# training and 25% for evaluation\n",
        "(trainX, testX, trainY, testY) = train_test_split(np.array(data),\tnp.array(labels), test_size=0.25, shuffle=True)\n",
        "print(trainX.shape)\n",
        "print(testX.shape)"
      ],
      "execution_count": null,
      "outputs": [
        {
          "output_type": "stream",
          "text": [
            "(440, 32, 32, 3)\n",
            "(147, 32, 32, 3)\n"
          ],
          "name": "stdout"
        }
      ]
    },
    {
      "cell_type": "code",
      "metadata": {
        "colab": {
          "base_uri": "https://localhost:8080/"
        },
        "id": "Cs_AoxUwvyEb",
        "outputId": "e15ecb5a-5c23-42d0-facb-d2548926c9e2"
      },
      "source": [
        "from keras.layers import Convolution2D, MaxPooling2D\n",
        "from keras.models import Sequential\n",
        "from keras.layers.core import Flatten, Dense\n",
        "\n",
        "model1 = Sequential()\n",
        "model1.add(Convolution2D(32, (3,3), activation='relu', input_shape=(32,32,3)))\n",
        "model1.add(MaxPooling2D(2,2))\n",
        "model1.add(Convolution2D(64, (3,3), activation='relu'))\n",
        "model1.add(MaxPooling2D(2,2))\n",
        "model1.add(Convolution2D(64, (3,3), activation='relu'))\n",
        "model1.add(MaxPooling2D(2,2))\n",
        "#fully connected layer\n",
        "model1.add(Flatten())\n",
        "model1.add(Dense(100, activation='relu'))\n",
        "model1.add(Dense(5, activation='softmax'))\n",
        "\n",
        "model1.summary()"
      ],
      "execution_count": null,
      "outputs": [
        {
          "output_type": "stream",
          "text": [
            "Model: \"sequential\"\n",
            "_________________________________________________________________\n",
            "Layer (type)                 Output Shape              Param #   \n",
            "=================================================================\n",
            "conv2d (Conv2D)              (None, 30, 30, 32)        896       \n",
            "_________________________________________________________________\n",
            "max_pooling2d (MaxPooling2D) (None, 15, 15, 32)        0         \n",
            "_________________________________________________________________\n",
            "conv2d_1 (Conv2D)            (None, 13, 13, 64)        18496     \n",
            "_________________________________________________________________\n",
            "max_pooling2d_1 (MaxPooling2 (None, 6, 6, 64)          0         \n",
            "_________________________________________________________________\n",
            "conv2d_2 (Conv2D)            (None, 4, 4, 64)          36928     \n",
            "_________________________________________________________________\n",
            "max_pooling2d_2 (MaxPooling2 (None, 2, 2, 64)          0         \n",
            "_________________________________________________________________\n",
            "flatten (Flatten)            (None, 256)               0         \n",
            "_________________________________________________________________\n",
            "dense (Dense)                (None, 100)               25700     \n",
            "_________________________________________________________________\n",
            "dense_1 (Dense)              (None, 5)                 505       \n",
            "=================================================================\n",
            "Total params: 82,525\n",
            "Trainable params: 82,525\n",
            "Non-trainable params: 0\n",
            "_________________________________________________________________\n"
          ],
          "name": "stdout"
        }
      ]
    },
    {
      "cell_type": "code",
      "metadata": {
        "colab": {
          "base_uri": "https://localhost:8080/"
        },
        "id": "ehR1obTpv4-P",
        "outputId": "0f816fe0-bae6-4a94-ef5f-b8a602db6f0a"
      },
      "source": [
        "# train the model using the Adam optimizer\n",
        "print(\"[INFO] training network...\")\n",
        "opt = Adam(lr=1e-3, decay=1e-3 / 50)\n",
        "model1.compile(loss=\"categorical_crossentropy\", optimizer=opt, metrics=[\"accuracy\"])"
      ],
      "execution_count": null,
      "outputs": [
        {
          "output_type": "stream",
          "text": [
            "[INFO] training network...\n"
          ],
          "name": "stdout"
        }
      ]
    },
    {
      "cell_type": "code",
      "metadata": {
        "colab": {
          "base_uri": "https://localhost:8080/"
        },
        "id": "dufxCW7Bv_2O",
        "outputId": "517a9a65-1693-4562-febc-d342e7508e90"
      },
      "source": [
        "H = model1.fit(trainX, trainY, validation_data=(testX, testY), epochs=38, batch_size=42)"
      ],
      "execution_count": null,
      "outputs": [
        {
          "output_type": "stream",
          "text": [
            "Epoch 1/38\n",
            "11/11 [==============================] - 1s 60ms/step - loss: 1.5997 - accuracy: 0.2318 - val_loss: 1.5758 - val_accuracy: 0.2245\n",
            "Epoch 2/38\n",
            "11/11 [==============================] - 1s 46ms/step - loss: 1.5338 - accuracy: 0.3227 - val_loss: 1.5169 - val_accuracy: 0.3401\n",
            "Epoch 3/38\n",
            "11/11 [==============================] - 1s 48ms/step - loss: 1.4618 - accuracy: 0.3386 - val_loss: 1.4449 - val_accuracy: 0.3878\n",
            "Epoch 4/38\n",
            "11/11 [==============================] - 1s 48ms/step - loss: 1.3729 - accuracy: 0.4500 - val_loss: 1.4616 - val_accuracy: 0.3333\n",
            "Epoch 5/38\n",
            "11/11 [==============================] - 1s 49ms/step - loss: 1.3244 - accuracy: 0.4455 - val_loss: 1.3216 - val_accuracy: 0.3741\n",
            "Epoch 6/38\n",
            "11/11 [==============================] - 1s 49ms/step - loss: 1.2427 - accuracy: 0.4636 - val_loss: 1.2874 - val_accuracy: 0.4762\n",
            "Epoch 7/38\n",
            "11/11 [==============================] - 1s 48ms/step - loss: 1.1686 - accuracy: 0.5091 - val_loss: 1.1984 - val_accuracy: 0.5578\n",
            "Epoch 8/38\n",
            "11/11 [==============================] - 1s 49ms/step - loss: 1.0945 - accuracy: 0.6068 - val_loss: 1.2044 - val_accuracy: 0.5238\n",
            "Epoch 9/38\n",
            "11/11 [==============================] - 1s 48ms/step - loss: 1.0788 - accuracy: 0.5841 - val_loss: 1.0788 - val_accuracy: 0.5986\n",
            "Epoch 10/38\n",
            "11/11 [==============================] - 1s 47ms/step - loss: 1.0067 - accuracy: 0.6159 - val_loss: 1.0737 - val_accuracy: 0.5850\n",
            "Epoch 11/38\n",
            "11/11 [==============================] - 1s 47ms/step - loss: 0.9588 - accuracy: 0.6341 - val_loss: 1.0025 - val_accuracy: 0.6531\n",
            "Epoch 12/38\n",
            "11/11 [==============================] - 1s 48ms/step - loss: 0.8434 - accuracy: 0.7023 - val_loss: 1.0417 - val_accuracy: 0.6463\n",
            "Epoch 13/38\n",
            "11/11 [==============================] - 1s 49ms/step - loss: 0.8183 - accuracy: 0.6909 - val_loss: 0.8842 - val_accuracy: 0.6599\n",
            "Epoch 14/38\n",
            "11/11 [==============================] - 1s 48ms/step - loss: 0.7486 - accuracy: 0.7318 - val_loss: 0.8595 - val_accuracy: 0.6735\n",
            "Epoch 15/38\n",
            "11/11 [==============================] - 1s 49ms/step - loss: 0.6660 - accuracy: 0.7909 - val_loss: 0.8392 - val_accuracy: 0.7143\n",
            "Epoch 16/38\n",
            "11/11 [==============================] - 1s 49ms/step - loss: 0.6440 - accuracy: 0.7705 - val_loss: 0.8520 - val_accuracy: 0.6667\n",
            "Epoch 17/38\n",
            "11/11 [==============================] - 1s 48ms/step - loss: 0.6166 - accuracy: 0.7750 - val_loss: 0.8136 - val_accuracy: 0.7347\n",
            "Epoch 18/38\n",
            "11/11 [==============================] - 1s 48ms/step - loss: 0.5251 - accuracy: 0.8182 - val_loss: 0.8742 - val_accuracy: 0.7143\n",
            "Epoch 19/38\n",
            "11/11 [==============================] - 1s 49ms/step - loss: 0.5732 - accuracy: 0.7864 - val_loss: 0.7683 - val_accuracy: 0.7347\n",
            "Epoch 20/38\n",
            "11/11 [==============================] - 1s 47ms/step - loss: 0.5194 - accuracy: 0.8045 - val_loss: 0.7228 - val_accuracy: 0.7211\n",
            "Epoch 21/38\n",
            "11/11 [==============================] - 1s 49ms/step - loss: 0.4720 - accuracy: 0.8341 - val_loss: 0.7642 - val_accuracy: 0.7347\n",
            "Epoch 22/38\n",
            "11/11 [==============================] - 1s 48ms/step - loss: 0.4426 - accuracy: 0.8386 - val_loss: 0.7261 - val_accuracy: 0.7551\n",
            "Epoch 23/38\n",
            "11/11 [==============================] - 1s 48ms/step - loss: 0.4104 - accuracy: 0.8591 - val_loss: 0.8771 - val_accuracy: 0.7143\n",
            "Epoch 24/38\n",
            "11/11 [==============================] - 1s 48ms/step - loss: 0.4322 - accuracy: 0.8386 - val_loss: 0.7140 - val_accuracy: 0.7755\n",
            "Epoch 25/38\n",
            "11/11 [==============================] - 1s 47ms/step - loss: 0.4632 - accuracy: 0.7955 - val_loss: 0.8316 - val_accuracy: 0.6735\n",
            "Epoch 26/38\n",
            "11/11 [==============================] - 1s 49ms/step - loss: 0.3753 - accuracy: 0.8432 - val_loss: 0.7960 - val_accuracy: 0.7075\n",
            "Epoch 27/38\n",
            "11/11 [==============================] - 1s 47ms/step - loss: 0.3504 - accuracy: 0.8750 - val_loss: 0.7224 - val_accuracy: 0.7347\n",
            "Epoch 28/38\n",
            "11/11 [==============================] - 1s 49ms/step - loss: 0.3018 - accuracy: 0.9045 - val_loss: 0.6815 - val_accuracy: 0.7687\n",
            "Epoch 29/38\n",
            "11/11 [==============================] - 1s 48ms/step - loss: 0.2668 - accuracy: 0.9114 - val_loss: 0.7406 - val_accuracy: 0.7891\n",
            "Epoch 30/38\n",
            "11/11 [==============================] - 1s 49ms/step - loss: 0.2468 - accuracy: 0.9114 - val_loss: 0.7368 - val_accuracy: 0.7619\n",
            "Epoch 31/38\n",
            "11/11 [==============================] - 1s 50ms/step - loss: 0.2540 - accuracy: 0.8955 - val_loss: 0.8150 - val_accuracy: 0.7347\n",
            "Epoch 32/38\n",
            "11/11 [==============================] - 1s 47ms/step - loss: 0.2867 - accuracy: 0.8886 - val_loss: 0.7192 - val_accuracy: 0.8095\n",
            "Epoch 33/38\n",
            "11/11 [==============================] - 1s 50ms/step - loss: 0.3173 - accuracy: 0.8750 - val_loss: 0.6971 - val_accuracy: 0.7959\n",
            "Epoch 34/38\n",
            "11/11 [==============================] - 1s 49ms/step - loss: 0.2823 - accuracy: 0.9023 - val_loss: 0.8138 - val_accuracy: 0.7279\n",
            "Epoch 35/38\n",
            "11/11 [==============================] - 1s 48ms/step - loss: 0.2478 - accuracy: 0.9045 - val_loss: 0.8930 - val_accuracy: 0.7211\n",
            "Epoch 36/38\n",
            "11/11 [==============================] - 1s 49ms/step - loss: 0.2437 - accuracy: 0.9114 - val_loss: 0.7147 - val_accuracy: 0.7755\n",
            "Epoch 37/38\n",
            "11/11 [==============================] - 1s 48ms/step - loss: 0.1987 - accuracy: 0.9273 - val_loss: 0.7330 - val_accuracy: 0.7619\n",
            "Epoch 38/38\n",
            "11/11 [==============================] - 1s 50ms/step - loss: 0.1875 - accuracy: 0.9432 - val_loss: 0.7514 - val_accuracy: 0.7619\n"
          ],
          "name": "stdout"
        }
      ]
    },
    {
      "cell_type": "code",
      "metadata": {
        "colab": {
          "base_uri": "https://localhost:8080/",
          "height": 590
        },
        "id": "fqG7cvafwR-o",
        "outputId": "f2612962-a450-4be4-daae-5204ed87a89d"
      },
      "source": [
        "import matplotlib.pyplot as plt\n",
        "\n",
        "print(H.history.keys())\n",
        "# summarize history for accuracy\n",
        "plt.plot(H.history['accuracy'])\n",
        "plt.plot(H.history['val_accuracy'])\n",
        "plt.title('model accuracy')\n",
        "plt.ylabel('accuracy')\n",
        "plt.xlabel('epoch')\n",
        "plt.legend(['train', 'test'], loc='upper left')\n",
        "plt.show()\n",
        "# summarize history for loss\n",
        "plt.plot(H.history['loss'])\n",
        "plt.plot(H.history['val_loss'])\n",
        "plt.title('model loss')\n",
        "plt.ylabel('loss')\n",
        "plt.xlabel('epoch')\n",
        "plt.legend(['train', 'test'], loc='upper left')\n",
        "plt.show()"
      ],
      "execution_count": null,
      "outputs": [
        {
          "output_type": "stream",
          "text": [
            "dict_keys(['loss', 'accuracy', 'val_loss', 'val_accuracy'])\n"
          ],
          "name": "stdout"
        },
        {
          "output_type": "display_data",
          "data": {
            "image/png": "[encoded data removed]",
            "text/plain": [
              "<Figure size 432x288 with 1 Axes>"
            ]
          },
          "metadata": {
            "tags": [],
            "needs_background": "light"
          }
        },
        {
          "output_type": "display_data",
          "data": {
            "image/png": "[encoded data removed]",
            "text/plain": [
              "<Figure size 432x288 with 1 Axes>"
            ]
          },
          "metadata": {
            "tags": [],
            "needs_background": "light"
          }
        }
      ]
    },
    {
      "cell_type": "code",
      "metadata": {
        "colab": {
          "base_uri": "https://localhost:8080/"
        },
        "id": "yBXiyAgqwZ_R",
        "outputId": "e8311e1c-2bca-42a4-b3d3-f53ecaf9bd89"
      },
      "source": [
        "# evaluate the network\n",
        "print(\"[INFO] evaluating network...\")\n",
        "predictions = model1.predict(testX, batch_size=42)\n",
        "print(classification_report(testY.argmax(axis=1),\n",
        "\tpredictions.argmax(axis=1), target_names=lb.classes_))"
      ],
      "execution_count": null,
      "outputs": [
        {
          "output_type": "stream",
          "text": [
            "[INFO] evaluating network...\n",
            "              precision    recall  f1-score   support\n",
            "\n",
            "      GMB_02       0.81      0.57      0.67        30\n",
            "      GMB_04       0.67      0.74      0.70        27\n",
            "      GMB_06       0.73      0.81      0.77        27\n",
            "      GMB_08       0.75      0.86      0.80        28\n",
            "      GMB_10       0.85      0.83      0.84        35\n",
            "\n",
            "    accuracy                           0.76       147\n",
            "   macro avg       0.76      0.76      0.76       147\n",
            "weighted avg       0.77      0.76      0.76       147\n",
            "\n"
          ],
          "name": "stdout"
        }
      ]
    },
    {
      "cell_type": "code",
      "metadata": {
        "id": "J4j9Q_AUwf-l"
      },
      "source": [
        ""
      ],
      "execution_count": null,
      "outputs": []
    }
  ]
}